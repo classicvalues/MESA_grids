{
 "cells": [
  {
   "cell_type": "code",
   "execution_count": 1,
   "metadata": {
    "collapsed": false
   },
   "outputs": [
    {
     "data": {
      "text/plain": [
       "'/home/luke/Dropbox/software/mesa/results/writeup_plots'"
      ]
     },
     "execution_count": 1,
     "metadata": {},
     "output_type": "execute_result"
    }
   ],
   "source": [
    "pwd"
   ]
  },
  {
   "cell_type": "code",
   "execution_count": 1,
   "metadata": {
    "collapsed": false
   },
   "outputs": [],
   "source": [
    "import matplotlib as mpl\n",
    "mpl.use(\"pgf\")\n",
    "pgf_with_custom_preamble = {\n",
    "    'pgf.texsystem': 'pdflatex',\n",
    "    'font.family': 'serif', # use serif/main font for text elements\n",
    "    'text.usetex': True,    # use inline math for ticks\n",
    "    'pgf.rcfonts': False,   # don't setup fonts from rc parameters\n",
    "    }\n",
    "mpl.rcParams.update(pgf_with_custom_preamble)\n",
    "\n",
    "import pandas as pd, numpy as np, matplotlib.pyplot as plt\n",
    "#plt.style.use('fivethirtyeight') # nope nope nope\n",
    "import os"
   ]
  },
  {
   "cell_type": "code",
   "execution_count": 8,
   "metadata": {
    "collapsed": false
   },
   "outputs": [],
   "source": [
    "table_dir = '../grid_production_0/tables/'\n",
    "table_paths =  [table_dir+p for p in np.array(os.listdir('../grid_production_0/tables/'))]\n",
    "bold_Z = 0.015\n",
    "bold_Z_paths = np.sort(np.array([p for p in table_paths if str(bold_Z) in p]))\n",
    "other_paths = np.sort(np.array([p for p in table_paths if str(bold_Z) not in p]))\n",
    "\n",
    "bold_Z_tabs, other_tabs = {}, {}\n",
    "for path in bold_Z_paths:\n",
    "    bold_Z_tabs[path] = pd.read_csv(path, index_col='age')\n",
    "for path in other_paths:\n",
    "    other_tabs[path] = pd.read_csv(path, index_col='age')\n",
    "\n",
    "plt.close('all')\n",
    "f, axs = plt.subplots(3, 2, sharex='col', figsize=(7,9.5))\n",
    "\n",
    "for bk in list(bold_Z_tabs.keys()):\n",
    "    this_table = bold_Z_tabs[bk]\n",
    "    this_table = this_table.sort_index()\n",
    "    this_table['I_tot'] = np.array(this_table['I_rad']) + np.array(this_table['I_conv'])\n",
    "    y_order = ['R_star', 'I_conv',  'L_star', \n",
    "               'I_rad', 'R_tachocline', 'I_tot']\n",
    "    y_labels = ['$\\log_{10}(R_\\star\\ [R_\\odot])$', \n",
    "                '$\\log_{10}(I_\\mathrm{conv}\\ [M_\\odot R_\\odot^2])$',\n",
    "                '$\\log_{10}(L_\\star\\ [L_\\odot])$', \n",
    "                '$\\log_{10}(I_\\mathrm{rad}\\ [M_\\odot R_\\odot^2])$',\n",
    "                '$\\log_{10}(R_\\mathrm{tachocline}\\ [R_\\odot])$', \n",
    "                '$\\log_{10}(I_\\mathrm{tot}\\ [M_\\odot R_\\odot^2])$']\n",
    "    for i, ax in enumerate(axs.flatten()):\n",
    "        this_y, this_y_label = y_order[i], y_labels[i]\n",
    "        ax.plot(np.log10(this_table.index.values), np.log10(this_table[this_y]), c='k', lw=1)\n",
    "        ax.set_ylabel(this_y_label)\n",
    "        if i == 4 or i == 5:\n",
    "            ax.set_xlabel('$\\log_{10}(\\mathrm{age\\ [yr]})$')\n",
    "\n",
    "mass_fracs = [0.0015, 0.00266741911506, 0.00474341649025, 0.00843511987786, \n",
    "              0.0266741911506, 0.0474341649025]\n",
    "mass_frac_alphas = np.arange(0.1,0.1+.14*6,0.14)\n",
    "l = np.array([el for el in zip(mass_fracs, mass_frac_alphas)])\n",
    "\n",
    "for bk in list(other_tabs.keys()):\n",
    "    if 'M0.5' in bk or 'M1.1' in bk:\n",
    "        this_Z = float(bk.split('_Z')[1][:-4])\n",
    "        this_α = float(l[np.where(np.isclose(l, this_Z))[0], 1])\n",
    "        \n",
    "        this_table = other_tabs[bk]\n",
    "        this_table = this_table.sort_index()\n",
    "        this_table['I_tot'] = np.array(this_table['I_rad']) + np.array(this_table['I_conv'])\n",
    "        y_order = ['R_star', 'I_conv',  'L_star', 'I_rad', 'R_tachocline', 'I_tot']\n",
    "        for i, ax in enumerate(axs.flatten()):\n",
    "            this_y = y_order[i]\n",
    "            ax.plot(np.log10(this_table.index.values), np.log10(this_table[this_y]), c='k', \n",
    "                    lw=0.5, alpha=this_α)\n",
    "            \n",
    "f.tight_layout()\n",
    "f.savefig('grids_2by3.pdf')"
   ]
  },
  {
   "cell_type": "code",
   "execution_count": 3,
   "metadata": {
    "collapsed": false
   },
   "outputs": [
    {
     "data": {
      "text/html": [
       "<div>\n",
       "<table border=\"1\" class=\"dataframe\">\n",
       "  <thead>\n",
       "    <tr style=\"text-align: right;\">\n",
       "      <th></th>\n",
       "      <th>R_star</th>\n",
       "      <th>L_star</th>\n",
       "      <th>M_star</th>\n",
       "      <th>R_tachocline</th>\n",
       "      <th>M_ini</th>\n",
       "      <th>M_conv</th>\n",
       "      <th>M_rad</th>\n",
       "      <th>I_conv</th>\n",
       "      <th>I_rad</th>\n",
       "    </tr>\n",
       "    <tr>\n",
       "      <th>age</th>\n",
       "      <th></th>\n",
       "      <th></th>\n",
       "      <th></th>\n",
       "      <th></th>\n",
       "      <th></th>\n",
       "      <th></th>\n",
       "      <th></th>\n",
       "      <th></th>\n",
       "      <th></th>\n",
       "    </tr>\n",
       "  </thead>\n",
       "  <tbody>\n",
       "    <tr>\n",
       "      <th>507197.3</th>\n",
       "      <td>2.376052</td>\n",
       "      <td>0.840243</td>\n",
       "      <td>0.4</td>\n",
       "      <td>0.0</td>\n",
       "      <td>0.4</td>\n",
       "      <td>0.4</td>\n",
       "      <td>0.0</td>\n",
       "      <td>0.437087</td>\n",
       "      <td>0.0</td>\n",
       "    </tr>\n",
       "    <tr>\n",
       "      <th>537728.7</th>\n",
       "      <td>2.313886</td>\n",
       "      <td>0.792495</td>\n",
       "      <td>0.4</td>\n",
       "      <td>0.0</td>\n",
       "      <td>0.4</td>\n",
       "      <td>0.4</td>\n",
       "      <td>0.0</td>\n",
       "      <td>0.415252</td>\n",
       "      <td>0.0</td>\n",
       "    </tr>\n",
       "    <tr>\n",
       "      <th>570532.5</th>\n",
       "      <td>2.253780</td>\n",
       "      <td>0.747903</td>\n",
       "      <td>0.4</td>\n",
       "      <td>0.0</td>\n",
       "      <td>0.4</td>\n",
       "      <td>0.4</td>\n",
       "      <td>0.0</td>\n",
       "      <td>0.394640</td>\n",
       "      <td>0.0</td>\n",
       "    </tr>\n",
       "    <tr>\n",
       "      <th>606137.7</th>\n",
       "      <td>2.195492</td>\n",
       "      <td>0.706229</td>\n",
       "      <td>0.4</td>\n",
       "      <td>0.0</td>\n",
       "      <td>0.4</td>\n",
       "      <td>0.4</td>\n",
       "      <td>0.0</td>\n",
       "      <td>0.375122</td>\n",
       "      <td>0.0</td>\n",
       "    </tr>\n",
       "    <tr>\n",
       "      <th>644907.4</th>\n",
       "      <td>2.138685</td>\n",
       "      <td>0.666949</td>\n",
       "      <td>0.4</td>\n",
       "      <td>0.0</td>\n",
       "      <td>0.4</td>\n",
       "      <td>0.4</td>\n",
       "      <td>0.0</td>\n",
       "      <td>0.356546</td>\n",
       "      <td>0.0</td>\n",
       "    </tr>\n",
       "  </tbody>\n",
       "</table>\n",
       "</div>"
      ],
      "text/plain": [
       "            R_star    L_star  M_star  R_tachocline  M_ini  M_conv  M_rad  \\\n",
       "age                                                                        \n",
       "507197.3  2.376052  0.840243     0.4           0.0    0.4     0.4    0.0   \n",
       "537728.7  2.313886  0.792495     0.4           0.0    0.4     0.4    0.0   \n",
       "570532.5  2.253780  0.747903     0.4           0.0    0.4     0.4    0.0   \n",
       "606137.7  2.195492  0.706229     0.4           0.0    0.4     0.4    0.0   \n",
       "644907.4  2.138685  0.666949     0.4           0.0    0.4     0.4    0.0   \n",
       "\n",
       "            I_conv  I_rad  \n",
       "age                        \n",
       "507197.3  0.437087    0.0  \n",
       "537728.7  0.415252    0.0  \n",
       "570532.5  0.394640    0.0  \n",
       "606137.7  0.375122    0.0  \n",
       "644907.4  0.356546    0.0  "
      ]
     },
     "execution_count": 3,
     "metadata": {},
     "output_type": "execute_result"
    }
   ],
   "source": [
    "bold_Z_tabs['../grid_production_0/tables/M0.4_Z0.015.csv'].sort_index().head()"
   ]
  }
 ],
 "metadata": {
  "anaconda-cloud": {},
  "kernelspec": {
   "display_name": "Python [conda env:sci]",
   "language": "python",
   "name": "conda-env-sci-py"
  },
  "language_info": {
   "codemirror_mode": {
    "name": "ipython",
    "version": 3
   },
   "file_extension": ".py",
   "mimetype": "text/x-python",
   "name": "python",
   "nbconvert_exporter": "python",
   "pygments_lexer": "ipython3",
   "version": "3.5.2"
  }
 },
 "nbformat": 4,
 "nbformat_minor": 1
}
